{
 "cells": [
  {
   "cell_type": "markdown",
   "id": "ffad63e9-287e-47f7-82b2-c69dbed3cc64",
   "metadata": {},
   "source": [
    "# Data Science Tools and Ecosystem"
   ]
  },
  {
   "cell_type": "markdown",
   "id": "aadaed39-4f1a-4434-9d21-34245b432442",
   "metadata": {},
   "source": [
    "In this notebook we will perform some basic functions to help us summarize the tools and ecosystems of data science."
   ]
  },
  {
   "cell_type": "markdown",
   "id": "3d1c777a-f4de-44e3-a21b-08d7f10c6754",
   "metadata": {},
   "source": [
    "__Objectives:__\n",
    "+ know programming languages for data science\n",
    "+ recognize libraries used in data science\n",
    "+ learn which development environments we can use\n",
    "+ Make simple arithmetic examples in Python"
   ]
  },
  {
   "cell_type": "markdown",
   "id": "edb65c8f-6824-4417-a743-c3d49948e0fe",
   "metadata": {},
   "source": [
    "Some of the most used programming languages in data science are:\n",
    "1. python\n",
    "2. R\n",
    "3. Julia\n",
    "4. Java\n",
    "5. C\n",
    "6. C++"
   ]
  },
  {
   "cell_type": "markdown",
   "id": "9c5ada5f-9a10-423f-ab7f-1c3d503443a1",
   "metadata": {},
   "source": [
    "It is also necessary to know some of the libraries used to do data science, for example:\n",
    "\n",
    "1. Numpy\n",
    "2. Pandas\n",
    "3. Tensorflow\n",
    "4. Matplotlib\n",
    "5. ggplot"
   ]
  },
  {
   "cell_type": "markdown",
   "id": "1e26fe2e-fae2-42db-a8ee-ef18ac3d73c4",
   "metadata": {},
   "source": [
    "|Data Science Tools|\n",
    "|----|\n",
    "|Visual studio code|\n",
    "|Jupiter|\n",
    "|RStudio|\n"
   ]
  },
  {
   "cell_type": "markdown",
   "id": "09766ca8-fb7c-45b0-88e0-6342bcff0ee6",
   "metadata": {},
   "source": [
    "### Next we will perform some arithmetic operations with the help of Python:"
   ]
  },
  {
   "cell_type": "code",
   "execution_count": 3,
   "id": "79f351c0-22ce-437f-82e0-7ff751675ec3",
   "metadata": {},
   "outputs": [
    {
     "data": {
      "text/plain": [
       "17"
      ]
     },
     "execution_count": 3,
     "metadata": {},
     "output_type": "execute_result"
    }
   ],
   "source": [
    "# This arithmetic expression is the simplest that we can solve by applying hierarchy of operations \n",
    "# since we find two operations grouped with the help of parentheses.\n",
    "(3*4)+5"
   ]
  },
  {
   "cell_type": "code",
   "execution_count": 4,
   "id": "c70f5909-87b1-45e8-87c2-91e6681c69df",
   "metadata": {},
   "outputs": [
    {
     "data": {
      "text/plain": [
       "3.3333333333333335"
      ]
     },
     "execution_count": 4,
     "metadata": {},
     "output_type": "execute_result"
    }
   ],
   "source": [
    "#Another example is converting minutes to hours, for which you just have to divide the minutes by 60\n",
    "200/60"
   ]
  },
  {
   "cell_type": "markdown",
   "id": "16586a94-be74-45b2-ae35-97b05417992d",
   "metadata": {},
   "source": [
    "## Author\n",
    "Luis Alfonso Montes de Oca Bucio"
   ]
  },
  {
   "cell_type": "code",
   "execution_count": null,
   "id": "b217fd3a-4454-4971-afd2-642ec5a3b821",
   "metadata": {},
   "outputs": [],
   "source": []
  }
 ],
 "metadata": {
  "kernelspec": {
   "display_name": "Python 3 (ipykernel)",
   "language": "python",
   "name": "python3"
  },
  "language_info": {
   "codemirror_mode": {
    "name": "ipython",
    "version": 3
   },
   "file_extension": ".py",
   "mimetype": "text/x-python",
   "name": "python",
   "nbconvert_exporter": "python",
   "pygments_lexer": "ipython3",
   "version": "3.12.8"
  }
 },
 "nbformat": 4,
 "nbformat_minor": 5
}
